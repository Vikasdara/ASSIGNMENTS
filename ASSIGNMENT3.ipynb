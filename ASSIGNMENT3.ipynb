{
  "nbformat": 4,
  "nbformat_minor": 0,
  "metadata": {
    "colab": {
      "provenance": []
    },
    "kernelspec": {
      "name": "python3",
      "display_name": "Python 3"
    },
    "language_info": {
      "name": "python"
    }
  },
  "cells": [
    {
      "cell_type": "code",
      "source": [
        "#Exercise 1: Prime Numbers\n",
        "n=int(input(\"enter a number\"))\n",
        "def is_prime(n):\n",
        "  if n<=1:\n",
        "    return False\n",
        "count=0\n",
        "for i in range(1, n + 1):\n",
        "  if n%i==0:\n",
        "    count+=1\n",
        "if count==2:\n",
        "  print(f\"{n} is a Prime number\")\n",
        "else:\n",
        "  print(f\"{n} is Not a Prime number\")\n",
        "\n",
        "\n",
        "\n",
        ""
      ],
      "metadata": {
        "colab": {
          "base_uri": "https://localhost:8080/"
        },
        "id": "60lCrucH5J4Y",
        "outputId": "7f73e4e4-46d6-4f89-b327-598935cab256"
      },
      "execution_count": 11,
      "outputs": [
        {
          "output_type": "stream",
          "name": "stdout",
          "text": [
            "enter a number17\n",
            "17 is a Prime number\n"
          ]
        }
      ]
    },
    {
      "cell_type": "code",
      "source": [
        "#Exercise 2: Product of Random Numbers\n",
        "import random\n",
        "\n",
        "def multiplication_quiz():\n",
        "\n",
        "    num1 = random.randint(1, 10)\n",
        "    num2 = random.randint(1, 10)\n",
        "\n",
        "\n",
        "    print(f\"What is {num1} × {num2}?\")\n",
        "    user_answer = int(input(\"Your answer: \"))\n",
        "\n",
        "\n",
        "    correct_answer = num1 * num2\n",
        "    if user_answer == correct_answer:\n",
        "        print(\" Correct! Well done.\")\n",
        "    else:\n",
        "        print(f\"Incorrect. The correct answer is {correct_answer}.\")\n",
        "\n",
        "# Run the quiz\n",
        "multiplication_quiz()\n"
      ],
      "metadata": {
        "colab": {
          "base_uri": "https://localhost:8080/"
        },
        "id": "jLg-or1i5KqQ",
        "outputId": "b1666546-333b-40b3-e36e-859fbeb5b9ec"
      },
      "execution_count": 15,
      "outputs": [
        {
          "output_type": "stream",
          "name": "stdout",
          "text": [
            "What is 8 × 4?\n",
            "Your answer: 32\n",
            " Correct! Well done.\n"
          ]
        }
      ]
    },
    {
      "cell_type": "code",
      "source": [
        "#Exercise 3: Squares of Even/Odd Numbers\n",
        "for i in range(100,200):\n",
        "  if i%2==0:\n",
        "    print(i**2)\n",
        ""
      ],
      "metadata": {
        "colab": {
          "base_uri": "https://localhost:8080/"
        },
        "id": "gxLlXLPa9glT",
        "outputId": "a17777be-53b8-4f69-f231-0cb0a81260d2"
      },
      "execution_count": 17,
      "outputs": [
        {
          "output_type": "stream",
          "name": "stdout",
          "text": [
            "10000\n",
            "10404\n",
            "10816\n",
            "11236\n",
            "11664\n",
            "12100\n",
            "12544\n",
            "12996\n",
            "13456\n",
            "13924\n",
            "14400\n",
            "14884\n",
            "15376\n",
            "15876\n",
            "16384\n",
            "16900\n",
            "17424\n",
            "17956\n",
            "18496\n",
            "19044\n",
            "19600\n",
            "20164\n",
            "20736\n",
            "21316\n",
            "21904\n",
            "22500\n",
            "23104\n",
            "23716\n",
            "24336\n",
            "24964\n",
            "25600\n",
            "26244\n",
            "26896\n",
            "27556\n",
            "28224\n",
            "28900\n",
            "29584\n",
            "30276\n",
            "30976\n",
            "31684\n",
            "32400\n",
            "33124\n",
            "33856\n",
            "34596\n",
            "35344\n",
            "36100\n",
            "36864\n",
            "37636\n",
            "38416\n",
            "39204\n"
          ]
        }
      ]
    },
    {
      "cell_type": "code",
      "source": [
        "# Excrcise 4:Simple Word Counter\n",
        "\n",
        "text = \"This is a sample text. This text will be used to demonstrate the word counter.\"\n",
        "\n",
        "\n",
        "words = text.replace(\".\", \"\").replace(\",\", \"\").split()\n",
        "\n",
        "\n",
        "count = {}\n",
        "for w in words:\n",
        "    count[w] = count.get(w, 0) + 1\n",
        "\n",
        "\n",
        "for word, freq in count.items():\n",
        "    print(f\"'{word}': {freq}\")\n"
      ],
      "metadata": {
        "colab": {
          "base_uri": "https://localhost:8080/"
        },
        "id": "3TlFdxuF-ocy",
        "outputId": "4fc05681-8306-47c9-eae7-0b8b86908b68"
      },
      "execution_count": 19,
      "outputs": [
        {
          "output_type": "stream",
          "name": "stdout",
          "text": [
            "'This': 2\n",
            "'is': 1\n",
            "'a': 1\n",
            "'sample': 1\n",
            "'text': 2\n",
            "'will': 1\n",
            "'be': 1\n",
            "'used': 1\n",
            "'to': 1\n",
            "'demonstrate': 1\n",
            "'the': 1\n",
            "'word': 1\n",
            "'counter': 1\n"
          ]
        }
      ]
    },
    {
      "cell_type": "code",
      "source": [
        "#Exercise 5: Check for Palindrome\n",
        "def is_palindrome(s: str):\n",
        "  cleaned=\"\"\n",
        "  for ch in s:\n",
        "    if ch.isalnum():\n",
        "      cleaned+=ch.lower()\n",
        "  return cleaned==cleaned[::-1]\n",
        "s=input(\"enter a string\")\n",
        "if is_palindrome(s):\n",
        "    print(\"It is a palindrome!\")\n",
        "else:\n",
        "    print(\"It is not a palindrome.\")"
      ],
      "metadata": {
        "colab": {
          "base_uri": "https://localhost:8080/"
        },
        "id": "tw3hbZwnBDbb",
        "outputId": "46c32b1c-9fa9-4437-fb3c-08723c488dfb"
      },
      "execution_count": 24,
      "outputs": [
        {
          "output_type": "stream",
          "name": "stdout",
          "text": [
            "enter a string121\n",
            "It is a palindrome!\n"
          ]
        }
      ]
    },
    {
      "cell_type": "code",
      "source": [],
      "metadata": {
        "id": "jHwXpX2GDZaz"
      },
      "execution_count": null,
      "outputs": []
    }
  ]
}