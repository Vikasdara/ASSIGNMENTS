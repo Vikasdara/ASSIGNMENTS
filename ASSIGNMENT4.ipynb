{
  "nbformat": 4,
  "nbformat_minor": 0,
  "metadata": {
    "colab": {
      "provenance": []
    },
    "kernelspec": {
      "name": "python3",
      "display_name": "Python 3"
    },
    "language_info": {
      "name": "python"
    }
  },
  "cells": [
    {
      "cell_type": "code",
      "execution_count": 2,
      "metadata": {
        "id": "K548Qm2fHAvR"
      },
      "outputs": [],
      "source": [
        "import numpy as np\n",
        "import pandas as pd\n",
        "from scipy.stats import chi2_contingency,chi2"
      ]
    },
    {
      "cell_type": "code",
      "source": [
        "data = pd.DataFrame({\n",
        "\"Smart Thermostat\": [50, 80, 60, 30, 20],\n",
        "\"Smart Light\": [70, 100, 90, 50, 50]\n",
        "}, index=[\"Very Satisfied\", \"Satisfied\", \"Neutral\", \"Unsatisfied\", \"Very Unsatisfied\"])\n",
        "\n",
        "\n",
        "print(\"Contingency Table:\")\n",
        "print(data)"
      ],
      "metadata": {
        "colab": {
          "base_uri": "https://localhost:8080/"
        },
        "id": "vV1HR_jmHgfO",
        "outputId": "6dbaa086-7362-4c9f-fbef-21ec806c7893"
      },
      "execution_count": 3,
      "outputs": [
        {
          "output_type": "stream",
          "name": "stdout",
          "text": [
            "Contingency Table:\n",
            "                  Smart Thermostat  Smart Light\n",
            "Very Satisfied                  50           70\n",
            "Satisfied                       80          100\n",
            "Neutral                         60           90\n",
            "Unsatisfied                     30           50\n",
            "Very Unsatisfied                20           50\n"
          ]
        }
      ]
    },
    {
      "cell_type": "code",
      "source": [
        "#H0 There is no Association between Device Type and Customer Satisfaction\n",
        "#H1 There is a Association between Device Type and Customer Satisfaction"
      ],
      "metadata": {
        "id": "JGYjtcnPH_Ew"
      },
      "execution_count": 9,
      "outputs": []
    },
    {
      "cell_type": "code",
      "source": [
        "chi2_statistic, p_value, dof, expected_frequencies = chi2_contingency(data)\n",
        "\n",
        "print(f\"Chi-squared statistic: {chi2_statistic}\")\n",
        "print(f\"P-value: {p_value}\")\n",
        "print(f\"Degrees of freedom: {dof}\")\n",
        "print(\"Expected frequencies:\")\n",
        "print(expected_frequencies)"
      ],
      "metadata": {
        "colab": {
          "base_uri": "https://localhost:8080/"
        },
        "id": "eLAJIehmISjT",
        "outputId": "7e0d9842-f216-49f3-ccc2-4549929964a8"
      },
      "execution_count": 10,
      "outputs": [
        {
          "output_type": "stream",
          "name": "stdout",
          "text": [
            "Chi-squared statistic: 5.638227513227513\n",
            "P-value: 0.22784371130697179\n",
            "Degrees of freedom: 4\n",
            "Expected frequencies:\n",
            "[[ 48.  72.]\n",
            " [ 72. 108.]\n",
            " [ 60.  90.]\n",
            " [ 32.  48.]\n",
            " [ 28.  42.]]\n"
          ]
        }
      ]
    },
    {
      "cell_type": "code",
      "source": [
        "alpha = 0.05\n",
        "critical_value = chi2.ppf(1 - alpha, dof)\n",
        "\n",
        "print(f\"Critical value (alpha={alpha}, dof={dof}): {critical_value}\")"
      ],
      "metadata": {
        "colab": {
          "base_uri": "https://localhost:8080/"
        },
        "id": "JFO1hb5AIozC",
        "outputId": "d19dc82f-5bc0-44ba-a4ed-060d0e3f1c76"
      },
      "execution_count": 11,
      "outputs": [
        {
          "output_type": "stream",
          "name": "stdout",
          "text": [
            "Critical value (alpha=0.05, dof=4): 9.487729036781154\n"
          ]
        }
      ]
    },
    {
      "cell_type": "code",
      "source": [
        "pvalue =0.22784371130697179\n",
        "alpha=0.05\n",
        "if pvalue < alpha:\n",
        "    print(\"Ho is rejected and H1 is accepted\")\n",
        "else:\n",
        "    print(\"H1 is rejected and H0 is accepted\")"
      ],
      "metadata": {
        "colab": {
          "base_uri": "https://localhost:8080/"
        },
        "id": "zkrR0plVJtUR",
        "outputId": "c3143e61-d09a-420b-d1c9-6cc5eb4201db"
      },
      "execution_count": 12,
      "outputs": [
        {
          "output_type": "stream",
          "name": "stdout",
          "text": [
            "H1 is rejected and H0 is accepted\n"
          ]
        }
      ]
    },
    {
      "cell_type": "code",
      "source": [
        "##############################################################################################################\n",
        "#HYPOTESIS TESTING:\n",
        "##############################################################################################################\n",
        "#H0=NO EVIDENCE THAT COSTS ARE HIGHER\n",
        "#H0=EVIDENCE"
      ],
      "metadata": {
        "id": "wDKZfbrWJyZZ"
      },
      "execution_count": 14,
      "outputs": []
    },
    {
      "cell_type": "code",
      "source": [
        "import numpy as np\n",
        "from scipy.stats import norm"
      ],
      "metadata": {
        "id": "ilM8Kkj-O3JE"
      },
      "execution_count": 15,
      "outputs": []
    },
    {
      "cell_type": "code",
      "source": [
        "X_bar=3050\n",
        "n=25\n",
        "sigma=5*25\n",
        "MU=1000+5*600"
      ],
      "metadata": {
        "id": "5UhNhGfiPEpP"
      },
      "execution_count": 16,
      "outputs": []
    },
    {
      "cell_type": "code",
      "source": [
        "z=(X_bar-MU)/(sigma/np.sqrt(n))\n",
        "print(z)"
      ],
      "metadata": {
        "colab": {
          "base_uri": "https://localhost:8080/"
        },
        "id": "j8epoSayQkRU",
        "outputId": "1aa2b147-f988-4582-b9e3-3873199c64b9"
      },
      "execution_count": 20,
      "outputs": [
        {
          "output_type": "stream",
          "name": "stdout",
          "text": [
            "-38.0\n"
          ]
        }
      ]
    },
    {
      "cell_type": "code",
      "source": [
        "alpha=0.05\n",
        "z_cri=norm.ppf(1-alpha)\n",
        "print(z_cri)"
      ],
      "metadata": {
        "colab": {
          "base_uri": "https://localhost:8080/"
        },
        "id": "Rs0cAdk3QrW3",
        "outputId": "935116ab-448e-455f-cb10-ec38fcb08cff"
      },
      "execution_count": 27,
      "outputs": [
        {
          "output_type": "stream",
          "name": "stdout",
          "text": [
            "1.6448536269514722\n"
          ]
        }
      ]
    },
    {
      "cell_type": "code",
      "source": [
        "if z > z_cri:\n",
        "  print(\"Reject H0 → Evidence that weekly operating costs are higher.\")\n",
        "else:\n",
        "  print(\"Fail to Reject H0 → No evidence that costs are higher.\")"
      ],
      "metadata": {
        "colab": {
          "base_uri": "https://localhost:8080/"
        },
        "id": "mjEL3uj-RDqq",
        "outputId": "1fc2293b-dda9-45ab-c625-30f416ab9a31"
      },
      "execution_count": 28,
      "outputs": [
        {
          "output_type": "stream",
          "name": "stdout",
          "text": [
            "Fail to Reject H0 → No evidence that costs are higher.\n"
          ]
        }
      ]
    },
    {
      "cell_type": "code",
      "source": [],
      "metadata": {
        "id": "impC9Rl0TXVq"
      },
      "execution_count": null,
      "outputs": []
    }
  ]
}