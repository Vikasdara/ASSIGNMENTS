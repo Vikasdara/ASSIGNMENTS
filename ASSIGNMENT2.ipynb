{
 "cells": [
  {
   "cell_type": "code",
   "execution_count": 1,
   "id": "f2fa2043-1454-4d1f-8277-2a361701b50a",
   "metadata": {},
   "outputs": [],
   "source": [
    "import numpy as np\n",
    "import scipy.stats as st"
   ]
  },
  {
   "cell_type": "code",
   "execution_count": 2,
   "id": "a5e7f62c-4783-4737-b777-1397a508e8b4",
   "metadata": {},
   "outputs": [
    {
     "data": {
      "text/plain": [
       "array([1.13, 1.55, 1.43, 0.92, 1.25, 1.36, 1.32, 0.85, 1.07, 1.48, 1.2 ,\n",
       "       1.33, 1.18, 1.22, 1.29])"
      ]
     },
     "execution_count": 2,
     "metadata": {},
     "output_type": "execute_result"
    }
   ],
   "source": [
    "data=np.array([1.13, 1.55, 1.43, 0.92, 1.25, 1.36, 1.32, 0.85, 1.07, 1.48, 1.20, 1.33, 1.18, 1.22, 1.29])\n",
    "data"
   ]
  },
  {
   "cell_type": "code",
   "execution_count": 3,
   "id": "a4d36d13-5f8d-4616-a8df-32d7112cf363",
   "metadata": {},
   "outputs": [
    {
     "data": {
      "text/plain": [
       "15"
      ]
     },
     "execution_count": 3,
     "metadata": {},
     "output_type": "execute_result"
    }
   ],
   "source": [
    "n=len(data)\n",
    "n"
   ]
  },
  {
   "cell_type": "code",
   "execution_count": 4,
   "id": "d9f02c29-ce65-4db5-8af1-7d0c22fffbd7",
   "metadata": {},
   "outputs": [
    {
     "data": {
      "text/plain": [
       "np.float64(1.2386666666666666)"
      ]
     },
     "execution_count": 4,
     "metadata": {},
     "output_type": "execute_result"
    }
   ],
   "source": [
    "#MEAN\n",
    "mean=np.mean(data)\n",
    "mean"
   ]
  },
  {
   "cell_type": "code",
   "execution_count": 5,
   "id": "9df9c168-ae4d-43bf-b34b-a241895f2cd4",
   "metadata": {},
   "outputs": [
    {
     "data": {
      "text/plain": [
       "np.float64(0.19316412956959936)"
      ]
     },
     "execution_count": 5,
     "metadata": {},
     "output_type": "execute_result"
    }
   ],
   "source": [
    "#STD\n",
    "std=np.std(data,ddof=1)\n",
    "std"
   ]
  },
  {
   "cell_type": "code",
   "execution_count": 6,
   "id": "b11fab42-5155-4bb2-910c-14c70ead7d85",
   "metadata": {},
   "outputs": [
    {
     "data": {
      "text/plain": [
       "np.float64(0.04987476379384733)"
      ]
     },
     "execution_count": 6,
     "metadata": {},
     "output_type": "execute_result"
    }
   ],
   "source": [
    "#SE\n",
    "se=std/np.sqrt(n)\n",
    "se"
   ]
  },
  {
   "cell_type": "code",
   "execution_count": 7,
   "id": "b171ef2f-af18-4452-989e-a8145eace0f4",
   "metadata": {},
   "outputs": [],
   "source": [
    "#DEGREE OF FREEDOM\n",
    "degree=n-1"
   ]
  },
  {
   "cell_type": "code",
   "execution_count": 8,
   "id": "da31604c-1681-4bb1-9c16-13e60f9e1281",
   "metadata": {},
   "outputs": [
    {
     "data": {
      "text/plain": [
       "np.float64(-2.9768427343708344)"
      ]
     },
     "execution_count": 8,
     "metadata": {},
     "output_type": "execute_result"
    }
   ],
   "source": [
    "#CRITICAL VALUE\n",
    "alpha=0.01\n",
    "t_crt=st.t.ppf(alpha/2,degree)\n",
    "t_crt"
   ]
  },
  {
   "cell_type": "code",
   "execution_count": 9,
   "id": "a06ec15c-a715-4a4b-bcda-86c62b96bf59",
   "metadata": {},
   "outputs": [
    {
     "data": {
      "text/plain": [
       "np.float64(-0.148469328228176)"
      ]
     },
     "execution_count": 9,
     "metadata": {},
     "output_type": "execute_result"
    }
   ],
   "source": [
    "#MARGIN ERROR\n",
    "me=t_crt*se\n",
    "me"
   ]
  },
  {
   "cell_type": "code",
   "execution_count": 10,
   "id": "8a6008d0-fde3-4a70-9ace-cae1cf442ce0",
   "metadata": {},
   "outputs": [],
   "source": [
    "#CONFIDENCE INTERVAL\n",
    "CI_LOWER=mean-me\n",
    "CI_UPPER=mean+me"
   ]
  },
  {
   "cell_type": "code",
   "execution_count": 11,
   "id": "5e3f168e-3b83-44d0-8f7a-f9250e652172",
   "metadata": {},
   "outputs": [
    {
     "data": {
      "text/plain": [
       "np.float64(1.3871359948948425)"
      ]
     },
     "execution_count": 11,
     "metadata": {},
     "output_type": "execute_result"
    }
   ],
   "source": [
    "CI_LOWER"
   ]
  },
  {
   "cell_type": "code",
   "execution_count": 12,
   "id": "556ba782-e8c9-4bee-a126-62bf2fb72f1e",
   "metadata": {},
   "outputs": [
    {
     "data": {
      "text/plain": [
       "np.float64(1.0901973384384906)"
      ]
     },
     "execution_count": 12,
     "metadata": {},
     "output_type": "execute_result"
    }
   ],
   "source": [
    "CI_UPPER"
   ]
  },
  {
   "cell_type": "code",
   "execution_count": 13,
   "id": "5fa1c3fc-9317-48f3-a995-05cf62803a71",
   "metadata": {},
   "outputs": [],
   "source": [
    "#b. Build 99% Confidence Interval Using Known Population Standard Deviation"
   ]
  },
  {
   "cell_type": "code",
   "execution_count": 14,
   "id": "dd8c66b0-190c-436b-bc9c-68cc29961fbe",
   "metadata": {},
   "outputs": [
    {
     "data": {
      "text/plain": [
       "np.float64(0.051639777949432225)"
      ]
     },
     "execution_count": 14,
     "metadata": {},
     "output_type": "execute_result"
    }
   ],
   "source": [
    "sigma=0.2\n",
    "SE=sigma/np.sqrt(n)\n",
    "SE"
   ]
  },
  {
   "cell_type": "code",
   "execution_count": 15,
   "id": "ec7242a8-984b-4d95-89ba-635b31d0088e",
   "metadata": {},
   "outputs": [
    {
     "data": {
      "text/plain": [
       "np.float64(-2.575829303548901)"
      ]
     },
     "execution_count": 15,
     "metadata": {},
     "output_type": "execute_result"
    }
   ],
   "source": [
    "#critical value\n",
    "z_crt=st.norm.ppf(0.005)\n",
    "z_crt"
   ]
  },
  {
   "cell_type": "code",
   "execution_count": 16,
   "id": "ea0f45a6-b10d-4968-9e75-34d0fa116639",
   "metadata": {},
   "outputs": [
    {
     "data": {
      "text/plain": [
       "np.float64(-0.13301525327090588)"
      ]
     },
     "execution_count": 16,
     "metadata": {},
     "output_type": "execute_result"
    }
   ],
   "source": [
    "#MARGIN ERROR\n",
    "ME=z_crt*SE\n",
    "ME"
   ]
  },
  {
   "cell_type": "code",
   "execution_count": 17,
   "id": "9c7b8ca3-b22b-49db-80bd-dc5a6ae6c7d5",
   "metadata": {},
   "outputs": [],
   "source": [
    "#CONFIDENCE INTERVAL\n",
    "CI_lower=mean-ME\n",
    "CI_upper=mean+ME"
   ]
  },
  {
   "cell_type": "code",
   "execution_count": 18,
   "id": "e56824b7-1027-4c90-bc3e-5dc8bb79cb6c",
   "metadata": {},
   "outputs": [
    {
     "name": "stdout",
     "output_type": "stream",
     "text": [
      "1.3716819199375725 1.1056514133957607\n"
     ]
    }
   ],
   "source": [
    "print(CI_lower,CI_upper)"
   ]
  },
  {
   "cell_type": "code",
   "execution_count": null,
   "id": "443c7023-fff7-4c68-93f0-990601efe54d",
   "metadata": {},
   "outputs": [],
   "source": []
  }
 ],
 "metadata": {
  "kernelspec": {
   "display_name": "Python [conda env:base] *",
   "language": "python",
   "name": "conda-base-py"
  },
  "language_info": {
   "codemirror_mode": {
    "name": "ipython",
    "version": 3
   },
   "file_extension": ".py",
   "mimetype": "text/x-python",
   "name": "python",
   "nbconvert_exporter": "python",
   "pygments_lexer": "ipython3",
   "version": "3.13.5"
  }
 },
 "nbformat": 4,
 "nbformat_minor": 5
}
